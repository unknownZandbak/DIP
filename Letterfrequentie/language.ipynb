{
 "cells": [
  {
   "cell_type": "code",
   "execution_count": 152,
   "metadata": {},
   "outputs": [],
   "source": [
    "import numpy as np"
   ]
  },
  {
   "cell_type": "code",
   "execution_count": 254,
   "metadata": {},
   "outputs": [],
   "source": [
    "with open(\"data/nl/book2.txt\") as file:\n",
    "    bookNL = file.read()\n",
    "\n",
    "with open(\"data/en/book2.txt\",) as file:\n",
    "    bookEN = file.read()"
   ]
  },
  {
   "cell_type": "code",
   "execution_count": 255,
   "metadata": {},
   "outputs": [],
   "source": [
    "index_lookup = {\n",
    "    \"a\": 0, \"b\": 1, \"c\": 2, \"d\": 3, \"e\": 4, \"f\": 5, \"g\": 6, \"h\": 7, \"i\": 8, \"j\": 9,\n",
    "    \"k\": 10, \"l\": 11, \"m\": 12, \"n\": 13, \"o\": 14, \"p\": 15, \"q\": 16, \"r\": 17, \"s\": 18,\n",
    "    \"t\": 19,\"u\": 20, \"v\": 21, \"w\": 22, \"x\": 23, \"y\": 24, \"z\": 25, \" \": 26, \"&\": 27\n",
    "}\n",
    "\n",
    "unique_characters = [\"0\", \"1\", \"2\", \"3\", \"4\", \"5\", \"6\", \"7\", \"8\", \"9\", \"@\", \":\", \"-\",\n",
    "\"!\", \"/\", \",\", \"(\", \")\", \"[\", \"]\", \"{\", \"}\", \";\", \"?\", \"'\", '\"', \"*\", \"#\", ]\n"
   ]
  },
  {
   "cell_type": "code",
   "execution_count": 256,
   "metadata": {},
   "outputs": [],
   "source": [
    "def pre_procces(text: str) -> str:\n",
    "\n",
    "    text = text.casefold()\n",
    "    text = text.replace(\"_\", \"\")\n",
    "    text = text.replace(u\"\\n\", \"\")\n",
    "    text = text.replace(u\"\\xa0\", \"\")\n",
    "\n",
    "    for char in unique_characters:\n",
    "        text = text.replace(char, \"&\")    \n",
    "    \n",
    "    return text"
   ]
  },
  {
   "cell_type": "code",
   "execution_count": 257,
   "metadata": {},
   "outputs": [],
   "source": [
    "def getFreqMatrix(text: str) -> np.array:\n",
    "    freq = {}\n",
    "\n",
    "    for i in range(len(text)-1):\n",
    "        bigramm = f\"{text[i]}{text[i+1]}\"\n",
    "        freq[f\"{bigramm}\"] = freq[f\"{bigramm}\"]+1 if bigramm in freq else 1\n",
    "        matrix = to_freq_matrix(freq)\n",
    "        \n",
    "    return matrix"
   ]
  },
  {
   "cell_type": "code",
   "execution_count": 258,
   "metadata": {},
   "outputs": [],
   "source": [
    "def to_freq_matrix(freqdict: dict) -> np.array:\n",
    "    freqmatrix = np.zeros((28, 28), dtype=int)\n",
    "    for bigramm in freqdict:\n",
    "        char1, char2 = bigramm\n",
    "        freqmatrix[index_lookup[char1 if char1 in index_lookup else \"&\"]][index_lookup[char2 if char2 in index_lookup else \"&\"]] = freqdict[bigramm]\n",
    "        \n",
    "    return freqmatrix"
   ]
  },
  {
   "cell_type": "code",
   "execution_count": 259,
   "metadata": {},
   "outputs": [],
   "source": [
    "def predict_language(sentence: str) -> int:\n",
    "    \"\"\" prediction model of with language the given sentence is writen in.\n",
    "    Predicts between English and Dutch. \n",
    "\n",
    "    Args:\n",
    "        sentence (str): Given sentence to predict the language of.\n",
    "\n",
    "    Return:\n",
    "        predicted language(int): 0(English) or 1(Dutch)\n",
    "    \"\"\"\n",
    "    # generate matrix for sentence\n",
    "    sentence = pre_procces(sentence)\n",
    "    matrix_sentence = getFreqMatrix(sentence)\n",
    "\n",
    "    diff_score_nl = (matrix_bookNL * matrix_sentence).sum()\n",
    "    diff_score_en = (matrix_bookEN * matrix_sentence).sum()\n",
    "\n",
    "    if diff_score_en > diff_score_nl:\n",
    "        return 0\n",
    "    else: return 1"
   ]
  },
  {
   "cell_type": "code",
   "execution_count": 260,
   "metadata": {},
   "outputs": [],
   "source": [
    "\n",
    "def genMatrix(book: str):\n",
    "    # procces the  book and generate a freq matrix for it\n",
    "    print(\"Pre-proccesing book\")\n",
    "    book = pre_procces(book)\n",
    "\n",
    "    print(\"generating Matrix\")\n",
    "    matrix_book = getFreqMatrix(book)\n",
    "\n",
    "    print(\"Normalizing Matrix\")\n",
    "    matrix_book = np.divide(matrix_book, matrix_book.sum())\n",
    "\n",
    "    print(\"Done\")\n",
    "    return matrix_book"
   ]
  },
  {
   "cell_type": "code",
   "execution_count": 261,
   "metadata": {},
   "outputs": [
    {
     "name": "stdout",
     "output_type": "stream",
     "text": [
      "Pre-proccesing book\n",
      "generating Matrix\n",
      "Normalizing Matrix\n",
      "Done\n"
     ]
    }
   ],
   "source": [
    "matrix_bookNL = genMatrix(bookNL)"
   ]
  },
  {
   "cell_type": "code",
   "execution_count": 262,
   "metadata": {},
   "outputs": [
    {
     "name": "stdout",
     "output_type": "stream",
     "text": [
      "Pre-proccesing book\n",
      "generating Matrix\n",
      "Normalizing Matrix\n",
      "Done\n"
     ]
    }
   ],
   "source": [
    "matrix_bookEN = genMatrix(bookEN)"
   ]
  },
  {
   "cell_type": "code",
   "execution_count": 267,
   "metadata": {},
   "outputs": [],
   "source": [
    "def test_model(test_set: list) -> None:\n",
    "    \"\"\"This function tests the model with a set of unseen sentences.\n",
    "\n",
    "    Args:\n",
    "        test_set (list): list of sentences in dtring format with a target value\n",
    "    \"\"\"\n",
    "    accuracy = []\n",
    "    for sentence_set in test_set:\n",
    "        if len(sentence_set[0]) > 10:\n",
    "            target = sentence_set[1]\n",
    "            output = predict_language(sentence=sentence_set[0])\n",
    "            if output == target:\n",
    "                accuracy.append(1)\n",
    "            else: accuracy.append(0)\n",
    "        \n",
    "    print(f\"Accuracy Score: {(sum(accuracy)/len(accuracy))*100}%\")\n",
    "            "
   ]
  },
  {
   "cell_type": "code",
   "execution_count": 268,
   "metadata": {},
   "outputs": [],
   "source": [
    "def gen_test_set(file_path: str, target: int):\n",
    "    test_set = \"\"\n",
    "    # generate a test set\n",
    "    with open(file_path) as file:\n",
    "        test_set = file.read()\n",
    "        test_set = pre_procces(test_set)\n",
    "        test_set = test_set.split(\".\")\n",
    "        test_set = list(zip(test_set, [target]*len(test_set)))\n",
    "\n",
    "    return test_set"
   ]
  },
  {
   "cell_type": "code",
   "execution_count": 271,
   "metadata": {},
   "outputs": [
    {
     "name": "stdout",
     "output_type": "stream",
     "text": [
      "Lenght of data set: 401\n",
      "Accuracy Score: 97.98488664987406%\n"
     ]
    }
   ],
   "source": [
    "test_set_en = gen_test_set(\"data/en/book1.txt\", 0)\n",
    "print(f\"Lenght of data set: {len(test_set_en)}\")\n",
    "test_model(test_set_en)"
   ]
  },
  {
   "cell_type": "code",
   "execution_count": 272,
   "metadata": {},
   "outputs": [
    {
     "name": "stdout",
     "output_type": "stream",
     "text": [
      "Lenght of data set: 1462\n",
      "Accuracy Score: 99.57356076759062%\n"
     ]
    }
   ],
   "source": [
    "test_set_nl = gen_test_set(\"data/nl/book3.txt\", 1)\n",
    "print(f\"Lenght of data set: {len(test_set_nl)}\")\n",
    "test_model(test_set_nl)\n"
   ]
  },
  {
   "cell_type": "code",
   "execution_count": 234,
   "metadata": {},
   "outputs": [
    {
     "data": {
      "text/plain": [
       "0"
      ]
     },
     "execution_count": 234,
     "metadata": {},
     "output_type": "execute_result"
    }
   ],
   "source": [
    "predict_language(\"\"\"And so it was indeed! She was now only ten inches high, and her face\n",
    "                        brightened up at the thought that she was now the right size for going\n",
    "                        through the little door into that lovely garden.\"\"\")"
   ]
  },
  {
   "cell_type": "code",
   "execution_count": 235,
   "metadata": {},
   "outputs": [
    {
     "data": {
      "text/plain": [
       "0"
      ]
     },
     "execution_count": 235,
     "metadata": {},
     "output_type": "execute_result"
    }
   ],
   "source": [
    "predict_language(\"\"\"What a curious feeling!\" said Alice. \"I must be shutting up like a\n",
    "telescope!\"\"\")"
   ]
  },
  {
   "cell_type": "code",
   "execution_count": 236,
   "metadata": {},
   "outputs": [
    {
     "data": {
      "text/plain": [
       "1"
      ]
     },
     "execution_count": 236,
     "metadata": {},
     "output_type": "execute_result"
    }
   ],
   "source": [
    "predict_language(\"\"\"In de dagen van dominé Willems was dat nog zoo niet\"\"\")"
   ]
  },
  {
   "cell_type": "code",
   "execution_count": 237,
   "metadata": {},
   "outputs": [
    {
     "data": {
      "text/plain": [
       "0"
      ]
     },
     "execution_count": 237,
     "metadata": {},
     "output_type": "execute_result"
    }
   ],
   "source": [
    "predict_language(\"\"\"I have already told you what I think of the functionaries\n",
    "     in this department, but have not spoken sufficiently of the\n",
    "     respectable bishop, M. Bourlier.\"\"\")"
   ]
  },
  {
   "cell_type": "code",
   "execution_count": 238,
   "metadata": {},
   "outputs": [
    {
     "data": {
      "text/plain": [
       "1"
      ]
     },
     "execution_count": 238,
     "metadata": {},
     "output_type": "execute_result"
    }
   ],
   "source": [
    "predict_language(\"\"\"Zijn scheepsvolk had bij toeval\n",
    "vernomen, dat de galei door twee andere schepen beschermd werd, en\n",
    "daardoor was het zoo beangstigd geworden, dat het weigerde den tocht\n",
    "voort te zetten\"\"\")"
   ]
  },
  {
   "cell_type": "code",
   "execution_count": null,
   "metadata": {},
   "outputs": [],
   "source": []
  }
 ],
 "metadata": {
  "interpreter": {
   "hash": "e7370f93d1d0cde622a1f8e1c04877d8463912d04d973331ad4851f04de6915a"
  },
  "kernelspec": {
   "display_name": "Python 3.10.4 64-bit",
   "language": "python",
   "name": "python3"
  },
  "language_info": {
   "codemirror_mode": {
    "name": "ipython",
    "version": 3
   },
   "file_extension": ".py",
   "mimetype": "text/x-python",
   "name": "python",
   "nbconvert_exporter": "python",
   "pygments_lexer": "ipython3",
   "version": "3.10.4"
  },
  "orig_nbformat": 4
 },
 "nbformat": 4,
 "nbformat_minor": 2
}
