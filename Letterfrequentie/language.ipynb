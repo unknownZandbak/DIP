{
 "cells": [
  {
   "cell_type": "code",
   "execution_count": 46,
   "metadata": {},
   "outputs": [],
   "source": [
    "import numpy as np\n",
    "# import the texts as strings\n",
    "from data.booknl import bookNL\n",
    "from data.booken import bookEN"
   ]
  },
  {
   "cell_type": "code",
   "execution_count": 47,
   "metadata": {},
   "outputs": [],
   "source": [
    "with open(\"data/nl/book2.txt\") as file:\n",
    "    bookNL = file.read()\n",
    "\n",
    "with open(\"data/en/book2.txt\",) as file:\n",
    "    bookEN = file.read()"
   ]
  },
  {
   "cell_type": "code",
   "execution_count": 48,
   "metadata": {},
   "outputs": [],
   "source": [
    "index_lookup = {\n",
    "    \"a\": 0, \"b\": 1, \"c\": 2, \"d\": 3, \"e\": 4, \"f\": 5, \"g\": 6, \"h\": 7, \"i\": 8, \"j\": 9,\n",
    "    \"k\": 10, \"l\": 11, \"m\": 12, \"n\": 13, \"o\": 14, \"p\": 15, \"q\": 16, \"r\": 17, \"s\": 18,\n",
    "    \"t\": 19,\"u\": 20, \"v\": 21, \"w\": 22, \"x\": 23, \"y\": 24, \"z\": 25, \" \": 26, \"&\": 27\n",
    "}\n",
    "\n",
    "unique_characters = [\"0\", \"1\", \"2\", \"3\", \"4\", \"5\", \"6\", \"7\", \"8\", \"9\", \"@\", \":\", \"-\",\n",
    "\"!\", \"/\", \".\", \",\", \"(\", \")\", \"[\", \"]\", \"{\", \"}\", \";\", \"?\", \"'\", '\"', \"*\", \"#\", ]\n"
   ]
  },
  {
   "cell_type": "code",
   "execution_count": 49,
   "metadata": {},
   "outputs": [],
   "source": [
    "def pre_procces(text: str) -> str:\n",
    "\n",
    "    text = text.casefold()\n",
    "    text = text.replace(\"_\", \"\")\n",
    "    text = text.replace(u\"\\n\", \"\")\n",
    "    text = text.replace(u\"\\xa0\", \"\")\n",
    "\n",
    "    for char in unique_characters:\n",
    "        text = text.replace(char, \"&\")    \n",
    "    \n",
    "    return text"
   ]
  },
  {
   "cell_type": "code",
   "execution_count": 50,
   "metadata": {},
   "outputs": [],
   "source": [
    "def getFreqMatrix(text: str) -> np.array:\n",
    "    freq = {}\n",
    "\n",
    "    for i in range(len(text)-1):\n",
    "        bigramm = f\"{text[i]}{text[i+1]}\"\n",
    "        freq[f\"{bigramm}\"] = freq[f\"{bigramm}\"]+1 if bigramm in freq else 1\n",
    "        matrix = to_freq_matrix(freq)\n",
    "    return matrix"
   ]
  },
  {
   "cell_type": "code",
   "execution_count": 51,
   "metadata": {},
   "outputs": [],
   "source": [
    "def to_freq_matrix(freqdict: dict) -> np.array:\n",
    "    freqmatrix = np.zeros((28, 28), dtype=int)\n",
    "    for bigramm in freqdict:\n",
    "        char1, char2 = bigramm\n",
    "        freqmatrix[index_lookup[char1 if char1 in index_lookup else \"&\"]][index_lookup[char2 if char2 in index_lookup else \"&\"]] = freqdict[bigramm]\n",
    "    return freqmatrix"
   ]
  },
  {
   "cell_type": "code",
   "execution_count": 52,
   "metadata": {},
   "outputs": [],
   "source": [
    "def predict_language(sentence: str):\n",
    "    \"\"\" prediction model of with language the given sentence is writen in.\n",
    "    Predicts between English and Dutch. \n",
    "\n",
    "    Args:\n",
    "        sentence (str): Given sentence to predict the language of.\n",
    "    \"\"\"\n",
    "    # generate matrix for sentence\n",
    "    matrix_sentence = getFreqMatrix(sentence)\n",
    "\n",
    "    diff_score_nl = (matrix_bookNL * matrix_sentence).sum()\n",
    "    diff_score_en = (matrix_bookEN * matrix_sentence).sum()\n",
    "\n",
    "    print(f\"NL score: {diff_score_nl}\")\n",
    "    print(f\"EN score: {diff_score_en}\")"
   ]
  },
  {
   "cell_type": "code",
   "execution_count": 63,
   "metadata": {},
   "outputs": [
    {
     "name": "stdout",
     "output_type": "stream",
     "text": [
      "Pre-proccesing english book\n",
      "generating Matrix\n",
      "Normalizing Matrix\n",
      "Done\n"
     ]
    }
   ],
   "source": [
    "# procces the english book and generate a freq matrix for it\n",
    "print(\"Pre-proccesing english book\")\n",
    "bookEN = pre_procces(bookEN)\n",
    "\n",
    "print(\"generating Matrix\")\n",
    "matrix_bookEN = getFreqMatrix(bookEN)\n",
    "\n",
    "print(\"Normalizing Matrix\")\n",
    "matrix_bookEN = np.divide(matrix_bookEN, matrix_bookEN.sum())\n",
    "\n",
    "print(\"Done\")"
   ]
  },
  {
   "cell_type": "code",
   "execution_count": 65,
   "metadata": {},
   "outputs": [
    {
     "name": "stdout",
     "output_type": "stream",
     "text": [
      "Pre-proccesing dutch book\n",
      "generating Matrix\n",
      "Normalizing Matrix\n",
      "Done\n"
     ]
    }
   ],
   "source": [
    "# procces the dutch book and generate a freq matrix for it\n",
    "print(\"Pre-proccesing dutch book\")\n",
    "bookNL = pre_procces(bookNL)\n",
    "\n",
    "print(\"generating Matrix\")\n",
    "matrix_bookNL = getFreqMatrix(bookNL)\n",
    "\n",
    "print(\"Normalizing Matrix\")\n",
    "matrix_bookNL = np.divide(matrix_bookNL, matrix_bookNL.sum())\n",
    "\n",
    "print(\"Done\")"
   ]
  },
  {
   "cell_type": "code",
   "execution_count": 66,
   "metadata": {},
   "outputs": [
    {
     "name": "stdout",
     "output_type": "stream",
     "text": [
      "NL score: 1.338444571413386\n",
      "EN score: 2.142334054986002\n"
     ]
    }
   ],
   "source": [
    "predict_language(\"\"\"And so it was indeed! She was now only ten inches high, and her face\n",
    "                        brightened up at the thought that she was now the right size for going\n",
    "                        through the little door into that lovely garden.\"\"\")"
   ]
  },
  {
   "cell_type": "code",
   "execution_count": 67,
   "metadata": {},
   "outputs": [
    {
     "name": "stdout",
     "output_type": "stream",
     "text": [
      "NL score: 0.3147689977278465\n",
      "EN score: 0.3957689251306416\n"
     ]
    }
   ],
   "source": [
    "predict_language(\"\"\"What a curious feeling!\" said Alice. \"I must be shutting up like a\n",
    "telescope!\"\"\")"
   ]
  },
  {
   "cell_type": "code",
   "execution_count": 68,
   "metadata": {},
   "outputs": [
    {
     "name": "stdout",
     "output_type": "stream",
     "text": [
      "NL score: 0.5300176723049735\n",
      "EN score: 0.26266191555259777\n"
     ]
    }
   ],
   "source": [
    "predict_language(\"\"\"In de dagen van dominé Willems was dat nog zoo niet\"\"\")"
   ]
  },
  {
   "cell_type": "code",
   "execution_count": 69,
   "metadata": {},
   "outputs": [
    {
     "name": "stdout",
     "output_type": "stream",
     "text": [
      "NL score: 0.8676915717721467\n",
      "EN score: 1.154399975289714\n"
     ]
    }
   ],
   "source": [
    "predict_language(\"\"\"I have already told you what I think of the functionaries\n",
    "     in this department, but have not spoken sufficiently of the\n",
    "     respectable bishop, M. Bourlier.\"\"\")"
   ]
  },
  {
   "cell_type": "code",
   "execution_count": 70,
   "metadata": {},
   "outputs": [
    {
     "name": "stdout",
     "output_type": "stream",
     "text": [
      "NL score: 1.8442365697125926\n",
      "EN score: 1.212915617181511\n"
     ]
    }
   ],
   "source": [
    "predict_language(\"\"\"Zijn scheepsvolk had bij toeval\n",
    "vernomen, dat de galei door twee andere schepen beschermd werd, en\n",
    "daardoor was het zoo beangstigd geworden, dat het weigerde den tocht\n",
    "voort te zetten\"\"\")"
   ]
  },
  {
   "cell_type": "code",
   "execution_count": null,
   "metadata": {},
   "outputs": [],
   "source": []
  }
 ],
 "metadata": {
  "interpreter": {
   "hash": "e7370f93d1d0cde622a1f8e1c04877d8463912d04d973331ad4851f04de6915a"
  },
  "kernelspec": {
   "display_name": "Python 3.10.4 64-bit",
   "language": "python",
   "name": "python3"
  },
  "language_info": {
   "codemirror_mode": {
    "name": "ipython",
    "version": 3
   },
   "file_extension": ".py",
   "mimetype": "text/x-python",
   "name": "python",
   "nbconvert_exporter": "python",
   "pygments_lexer": "ipython3",
   "version": "3.10.4"
  },
  "orig_nbformat": 4
 },
 "nbformat": 4,
 "nbformat_minor": 2
}
